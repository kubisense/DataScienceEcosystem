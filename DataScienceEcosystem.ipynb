{
 "cells": [
  {
   "cell_type": "markdown",
   "id": "661addf5-d4d0-4e15-acf5-77616034712a",
   "metadata": {},
   "source": [
    "# Data Science Tools and Ecosystem #"
   ]
  },
  {
   "cell_type": "markdown",
   "id": "d305fec1-f858-495d-b7bf-fb14d26b90e0",
   "metadata": {},
   "source": [
    "In this notebook, Data Science Tools and Ecosystem are summarized."
   ]
  },
  {
   "cell_type": "markdown",
   "id": "6ff46a84-3727-4a13-afe0-a9124b7ace62",
   "metadata": {},
   "source": [
    "**Objectives:**\n",
    "\n",
    "Some of the takeaway from this course include:\n",
    "* Understanding data management tools\n",
    "* Using popular languages like python, R, SQL, amongst others \n",
    "* Working with Data Science devlopmental environments and libraries\n",
    "* Algorithmic steps and phases required to analyze and visualize data\n",
    "* Code asset management and version control"
   ]
  },
  {
   "cell_type": "markdown",
   "id": "bdd69ab0-b2d3-4356-b222-a967920ad7be",
   "metadata": {},
   "source": [
    "Some of the popular languages that Data Scientists use are:\n",
    "1. Python\n",
    "2. R\n",
    "3. SQL\n",
    "4. Java\n",
    "5. Javascript"
   ]
  },
  {
   "cell_type": "markdown",
   "id": "22159d20-2db5-4cd5-bdd2-595ef5515bd1",
   "metadata": {},
   "source": [
    "Some of the commonly used libraries used by Data Scientists include:\n",
    "1. Pandas\n",
    "2. NumPy\n",
    "3. Plotly\n",
    "4. Matplotlib\n",
    "5. SciPy\n",
    "6. pyTorch\n",
    "7. TensorFlow"
   ]
  },
  {
   "cell_type": "markdown",
   "id": "fd20719c-cb38-412c-bcb1-cdef859b33f4",
   "metadata": {},
   "source": [
    "| Data Science Tools |\n",
    "|--------------------|\n",
    "| Jupiter Notebook   |\n",
    "| R                  |\n",
    "| VS Code            |"
   ]
  },
  {
   "cell_type": "markdown",
   "id": "80fac369-ed2b-44d1-b412-ccece0e47075",
   "metadata": {},
   "source": [
    "### Below are a few examples of evaluating arithmetic expressions in python ###"
   ]
  },
  {
   "cell_type": "code",
   "execution_count": 10,
   "id": "7dd2a195-0353-400e-bcc7-c6d157222720",
   "metadata": {},
   "outputs": [
    {
     "data": {
      "text/plain": [
       "17"
      ]
     },
     "execution_count": 10,
     "metadata": {},
     "output_type": "execute_result"
    }
   ],
   "source": [
    "#This is a simple arithmetic expression to multiply then add integers\n",
    "(3*4)+5"
   ]
  },
  {
   "cell_type": "code",
   "execution_count": 12,
   "id": "87f70b3f-da8e-43c4-adbc-28236bdb4614",
   "metadata": {},
   "outputs": [
    {
     "data": {
      "text/plain": [
       "3.3333333333333335"
      ]
     },
     "execution_count": 12,
     "metadata": {},
     "output_type": "execute_result"
    }
   ],
   "source": [
    "#This will convert 200 minutes to hours by dividing by 60\n",
    "200/60"
   ]
  },
  {
   "cell_type": "markdown",
   "id": "36ddcba9-6f46-404e-9558-6d30657b2dd9",
   "metadata": {},
   "source": [
    "## Author ##\n",
    "Clever Ubiagege"
   ]
  },
  {
   "cell_type": "code",
   "execution_count": null,
   "id": "1c659a41-a899-4a7c-b589-6a0390255245",
   "metadata": {},
   "outputs": [],
   "source": []
  }
 ],
 "metadata": {
  "kernelspec": {
   "display_name": "Python [conda env:Kubisense_Env]",
   "language": "python",
   "name": "conda-env-Kubisense_Env-py"
  },
  "language_info": {
   "codemirror_mode": {
    "name": "ipython",
    "version": 3
   },
   "file_extension": ".py",
   "mimetype": "text/x-python",
   "name": "python",
   "nbconvert_exporter": "python",
   "pygments_lexer": "ipython3",
   "version": "3.8.2"
  }
 },
 "nbformat": 4,
 "nbformat_minor": 5
}
